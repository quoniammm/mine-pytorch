{
 "cells": [
  {
   "cell_type": "code",
   "execution_count": 1,
   "metadata": {
    "collapsed": true
   },
   "outputs": [],
   "source": [
    "import torch\n",
    "import torch.nn as nn\n",
    "import torch.optim as optim\n",
    "import torch.nn.functional as F\n",
    "from torch.autograd import Variable\n",
    "\n",
    "import numpy as np\n",
    "import pandas as pd\n",
    "import matplotlib.pyplot as plt\n",
    "import re\n",
    "import jieba\n",
    "from collections import Counter\n",
    "import time\n",
    "import math"
   ]
  },
  {
   "cell_type": "code",
   "execution_count": 2,
   "metadata": {
    "collapsed": true
   },
   "outputs": [],
   "source": [
    "path = '../data/cmn-eng/'\n",
    "\n",
    "SOS_token = 0\n",
    "EOS_token = 1\n",
    "MAX_LENGTH = 10"
   ]
  },
  {
   "cell_type": "code",
   "execution_count": 3,
   "metadata": {
    "collapsed": true
   },
   "outputs": [],
   "source": [
    "with open(path + 'cmn.txt') as f:\n",
    "    lines = f.readlines()\n",
    "    f.close()"
   ]
  },
  {
   "cell_type": "code",
   "execution_count": 4,
   "metadata": {
    "collapsed": true
   },
   "outputs": [],
   "source": [
    "def deal_en_sen( raw ):\n",
    "    raw.strip()\n",
    "    letters_only = re.sub(\"[^a-zA-Z]\", \" \", raw) \n",
    "    words = letters_only.lower().split()                             \n",
    "    \n",
    "    return(\" \".join(words )) \n",
    "\n",
    "def deal_zh_sen( raw ):\n",
    "    raw.strip()\n",
    "    letters_only = re.sub(\"[^\\u4e00-\\u9fa5]\", \"\", raw)                        \n",
    "    \n",
    "    return(letters_only) "
   ]
  },
  {
   "cell_type": "code",
   "execution_count": 5,
   "metadata": {
    "collapsed": true
   },
   "outputs": [],
   "source": [
    "pairs = []\n",
    "pair = []\n",
    "for line in lines:\n",
    "    nen = deal_en_sen(line.split('\\t')[0])\n",
    "    nzh = deal_zh_sen(line.split('\\t')[1]) \n",
    "    pair.append(nen)\n",
    "    pair.append(nzh)\n",
    "    pairs.append(pair)\n",
    "    pair = []"
   ]
  },
  {
   "cell_type": "code",
   "execution_count": 6,
   "metadata": {},
   "outputs": [
    {
     "data": {
      "text/plain": [
       "[['hi', '嗨'], ['hi', '你好'], ['run', '你用跑的']]"
      ]
     },
     "execution_count": 6,
     "metadata": {},
     "output_type": "execute_result"
    }
   ],
   "source": [
    "pairs[0:3]"
   ]
  },
  {
   "cell_type": "code",
   "execution_count": 7,
   "metadata": {
    "collapsed": true
   },
   "outputs": [],
   "source": [
    "en_counts = Counter()\n",
    "zh_counts = Counter()"
   ]
  },
  {
   "cell_type": "code",
   "execution_count": 8,
   "metadata": {},
   "outputs": [
    {
     "name": "stderr",
     "output_type": "stream",
     "text": [
      "Building prefix dict from the default dictionary ...\n",
      "Loading model from cache /tmp/jieba.cache\n",
      "Loading model cost 0.712 seconds.\n",
      "Prefix dict has been built succesfully.\n"
     ]
    }
   ],
   "source": [
    "for i in range(len(pairs)):\n",
    "    for word in str(pairs[i][0]).split(' '):\n",
    "        en_counts[word] += 1\n",
    "    for word in list(jieba.cut(pairs[i][1])):\n",
    "        zh_counts[word] += 1"
   ]
  },
  {
   "cell_type": "code",
   "execution_count": 9,
   "metadata": {
    "collapsed": true
   },
   "outputs": [],
   "source": [
    "vocab_en = set(en_counts)\n",
    "vocab_zh = set(zh_counts)"
   ]
  },
  {
   "cell_type": "code",
   "execution_count": 10,
   "metadata": {},
   "outputs": [
    {
     "name": "stdout",
     "output_type": "stream",
     "text": [
      "5955\n",
      "13018\n"
     ]
    }
   ],
   "source": [
    "print(len(vocab_en))\n",
    "print(len(vocab_zh))"
   ]
  },
  {
   "cell_type": "code",
   "execution_count": 11,
   "metadata": {
    "collapsed": true
   },
   "outputs": [],
   "source": [
    "word2index_en = {0: \"SOS\", 1: \"EOS\"}\n",
    "for i, word in enumerate(vocab_en):\n",
    "    word2index_en[word] = i + 2\n",
    "    \n",
    "word2index_zh = {0: \"SOS\", 1: \"EOS\"}\n",
    "for i, word in enumerate(vocab_zh):\n",
    "    word2index_zh[word] = i + 2"
   ]
  },
  {
   "cell_type": "code",
   "execution_count": 12,
   "metadata": {
    "collapsed": true
   },
   "outputs": [],
   "source": [
    "pairs_to_vec = []\n",
    "\n",
    "for i in range(len(pairs)):\n",
    "    pair_to_vec = []\n",
    "    pair_en_to_vec = []\n",
    "    pair_zh_to_vec = []\n",
    "    for word in str(pairs[i][0]).split(' '):\n",
    "        pair_en_to_vec.append(word2index_en[word])\n",
    "    pair_en_to_vec.append(EOS_token)\n",
    "    for word in list(jieba.cut(pairs[i][1])):\n",
    "        pair_zh_to_vec.append(word2index_zh[word])\n",
    "    pair_zh_to_vec.append(EOS_token)\n",
    "    pair_to_vec.append(pair_en_to_vec)\n",
    "    pair_to_vec.append(pair_zh_to_vec)    \n",
    "    pairs_to_vec.append(pair_to_vec)"
   ]
  },
  {
   "cell_type": "code",
   "execution_count": 13,
   "metadata": {
    "collapsed": true
   },
   "outputs": [],
   "source": [
    "# 参数\n",
    "USE_CUDA = True\n",
    "MAX_LENGTH = 10\n",
    "# 功能函数\n",
    "def iterate_minibatches(data, batchsize, shuffle=False):\n",
    "    length = len(data)\n",
    "    if shuffle:\n",
    "        indices = np.arange(length)\n",
    "        np.random.shuffle(indices)\n",
    "        \n",
    "    for start_idx in range(0, length - batchsize + 1, batchsize):\n",
    "        if shuffle:\n",
    "            ran = indices[start_idx:start_idx + batchsize]\n",
    "        else:\n",
    "            ran = slice(start_idx, start_idx + batchsize)\n",
    "        yield data[ran]\n",
    "    \n",
    "    \n",
    "def gen_minibatch(data, batch_size, shuffle=True):\n",
    "    for pair in iterate_minibatches(data, batch_size, shuffle):\n",
    "        yield pair\n",
    "        \n",
    "def s(name, val):\n",
    "    print(name + \"'s size is {}\".format(val))"
   ]
  },
  {
   "cell_type": "code",
   "execution_count": 14,
   "metadata": {
    "collapsed": true
   },
   "outputs": [],
   "source": [
    "# Model\n",
    "class EncoderRNN(nn.Module):\n",
    "    def __init__(self, input_size, hidden_size, n_layers=1, batch_size=1, bidirectional=False):\n",
    "        super(EncoderRNN, self).__init__()\n",
    "\n",
    "        self.input_size = input_size\n",
    "        self.hidden_size = hidden_size\n",
    "        self.n_layers = n_layers\n",
    "        self.batch_size = batch_size\n",
    "        self.bidirectional = bidirectional\n",
    "\n",
    "        self.embedding = nn.Embedding(input_size, hidden_size)\n",
    "        self.gru = nn.GRU(hidden_size, hidden_size, n_layers, bidirectional=False)\n",
    "\n",
    "    def forward(self, sens_vec, hidden):\n",
    "#         s(\"sens_vec\", sens_vec.size())\n",
    "#         print(sens_vec.is_cuda)\n",
    "        embedded = self.embedding(sens_vec)\n",
    "#         s(\"embedded\", embedded.size())\n",
    "#         s(\"hidden\", hidden.size())\n",
    "        output, hidden = self.gru(embedded, hidden)\n",
    "#         s(\"output\", output.size())\n",
    "#         s(\"hidden\", hidden.size())\n",
    "        return output, hidden\n",
    "\n",
    "    def init_hidden(self):\n",
    "        hidden = Variable(torch.zeros(self.n_layers, 1, self.hidden_size))\n",
    "        if USE_CUDA: \n",
    "            hidden = hidden.cuda()\n",
    "        return hidden\n",
    "\n",
    "# Attn 层\n",
    "class Attn(nn.Module):\n",
    "    def __init__(self, hidden_size):\n",
    "        super(Attn, self).__init__()\n",
    "        \n",
    "        self.hidden_size = hidden_size\n",
    "        self.attn = nn.Linear(self.hidden_size, self.hidden_size)\n",
    "        \n",
    "    def forward(self, hidden, encoder_outputs):\n",
    "# #         s(\"encoder_outputs\", encoder_outputs.size())\n",
    "        seq_len = encoder_outputs.size()[0]\n",
    "        attn_energies = Variable(torch.zeros(seq_len))\n",
    "        \n",
    "        if USE_CUDA:\n",
    "            attn_energies = attn_energies.cuda()\n",
    "        \n",
    "        for i in range(seq_len):\n",
    "            attn_energies[i] = self.score(hidden, encoder_outputs[i][0])\n",
    "\n",
    "        return F.softmax(attn_energies)\n",
    "    \n",
    "    def score(self, hidden, encoder_output):\n",
    "#         s(\"encoder_output\", encoder_output.size())\n",
    "        energy = self.attn(encoder_output)\n",
    "        # 矩阵维度有些不理解\n",
    "#         s(\"enenrgy\", energy.view(-1).size())\n",
    "#         s(\"hidden\", hidden.squeeze(0).squeeze(0).size())\n",
    "        \n",
    "        energy = torch.dot(hidden.squeeze(0).squeeze(0), energy.view(-1))\n",
    "#         print(energy)\n",
    "#         s(\"new energy\", energy.size())\n",
    "        return energy\n",
    "# 改进的解码层\n",
    "class AttnDecoderRNN(nn.Module):\n",
    "    def __init__(self, hidden_size, output_size, n_layers=1, dropout_p=.1):\n",
    "        super(AttnDecoderRNN, self).__init__()\n",
    "        # 定义参数\n",
    "        self.hidden_size = hidden_size\n",
    "        self.output_size = output_size\n",
    "        self.n_layers = n_layers\n",
    "        self.dropout_p = dropout_p\n",
    "        \n",
    "        # 定义层\n",
    "        self.embedding = nn.Embedding(output_size, hidden_size)\n",
    "        self.gru = nn.GRU(hidden_size * 2, hidden_size, n_layers, dropout=dropout_p)\n",
    "        self.out = nn.Linear(hidden_size * 2, output_size)\n",
    "        self.attn = Attn(hidden_size)\n",
    "\n",
    "    def forward(self, word_input, last_context, last_hidden, encoder_outputs):\n",
    "#         s(\"word_input_de\", word_input.view(-1, 1).size())\n",
    "        word_embedded = self.embedding(word_input.view(-1, 1))\n",
    "#         s(\"word_embedded_de\", word_embedded.size())\n",
    "        \n",
    "#         s(\"last_context\", last_context.size())\n",
    "        rnn_input = torch.cat((word_embedded, last_context), 2)\n",
    "#         s(\"rnn_input\", rnn_input.size())\n",
    "#         s(\"last_hidden\", last_hidden.size())\n",
    "        rnn_output, hidden = self.gru(rnn_input, last_hidden)\n",
    "#         s(\"rnn_output\", rnn_output.size())\n",
    "#         print(rnn_output)\n",
    "        attn_weights = self.attn(rnn_output, encoder_outputs)\n",
    "#         print(attn_weights)\n",
    "#         s(\"encoder_outputs\", encoder_outputs.transpose(0, 1).size())\n",
    "#         s(\"attn_weights\", attn_weights.unsqueeze(0).unsqueeze(1).size())\n",
    "        context = attn_weights.unsqueeze(0).unsqueeze(1).bmm(encoder_outputs.transpose(0, 1)) \n",
    "#         s(\"context\", context.size())\n",
    "#         print(self.out(torch.cat((rnn_output, context), 2)).squeeze(0))\n",
    "        \n",
    "        output = F.log_softmax(self.out(torch.cat((rnn_output, context), 2)).squeeze(0))\n",
    "#         print(output)\n",
    "\n",
    "        return output, context, hidden, attn_weights"
   ]
  },
  {
   "cell_type": "code",
   "execution_count": 15,
   "metadata": {
    "collapsed": true
   },
   "outputs": [],
   "source": [
    "teacher_forcing_ratio = 0.5\n",
    "clip = 5.0\n",
    "MAX_LENGTH = 10\n",
    "\n",
    "def train(input_variable, target_variable, encoder, decoder, encoder_optimizer, decoder_optimizer, criterion, max_length=MAX_LENGTH):\n",
    "\n",
    "    # Zero gradients of both optimizers\n",
    "    encoder_optimizer.zero_grad()\n",
    "    decoder_optimizer.zero_grad()\n",
    "    loss = 0 # Added onto for each word\n",
    "\n",
    "#     print(target_variable)\n",
    "    \n",
    "    # Get size of input and target sentences\n",
    "    input_length = input_variable.size()[0]\n",
    "#     print(\"input's len is {}\".format(input_length))\n",
    "    target_length = target_variable.size()[0]\n",
    "#     print(\"target's len is {}\".format(target_length))\n",
    "    \n",
    "#     print(input_variable.is_cuda)\n",
    "\n",
    "    # Run words through encoder\n",
    "    encoder_hidden = encoder.init_hidden()\n",
    "#     print(type(encoder_hidden))\n",
    "#     print(type(input_variable))\n",
    "    encoder_outputs, encoder_hidden = encoder(input_variable, encoder_hidden)\n",
    "    \n",
    "    # Prepare input and output variables\n",
    "    decoder_input = Variable(torch.LongTensor([[SOS_token]]))\n",
    "    decoder_context = Variable(torch.zeros(1, 1, decoder.hidden_size))\n",
    "#     s(\"decoder_input\", decoder_input.size())\n",
    "#     s(\"decoder_context\", decoder_context.size())\n",
    "    decoder_hidden = encoder_hidden # Use last hidden state from encoder to start decoder\n",
    "    if USE_CUDA:\n",
    "        decoder_input = decoder_input.cuda()\n",
    "        decoder_context = decoder_context.cuda()\n",
    "\n",
    "    # Choose whether to use teacher forcing\n",
    "    use_teacher_forcing = np.random.random() < teacher_forcing_ratio\n",
    "    if use_teacher_forcing:\n",
    "        \n",
    "        # Teacher forcing: Use the ground-truth target as the next input\n",
    "        for di in range(target_length):\n",
    "            decoder_output, decoder_context, decoder_hidden, decoder_attention = decoder(decoder_input, decoder_context, decoder_hidden, encoder_outputs)\n",
    "#             s(\"decoder_output\", decoder_output.size())\n",
    "#             s(\"target_variable\", target_variable[di].size())\n",
    "            \n",
    "#             print(decoder_output[0][0].size())\n",
    "#             print( target_variable[0][di])\n",
    "#             print( target_variable[0][di].size())\n",
    "            loss += criterion(decoder_output, target_variable[di])\n",
    "#             print(\"loss is {}\".format(loss))\n",
    "            decoder_input = target_variable[di] # Next target is next input\n",
    "\n",
    "    else:\n",
    "        # Without teacher forcing: use network's own prediction as the next input\n",
    "        for di in range(target_length):\n",
    "            decoder_output, decoder_context, decoder_hidden, decoder_attention = decoder(decoder_input, decoder_context, decoder_hidden, encoder_outputs)\n",
    "#             s(\"decoder_output\", decoder_output.size())\n",
    "#             s(\"target_variable\", target_variable[di].size())\n",
    "            \n",
    "#             print(di)\n",
    "#             print(decoder_output[0][0])\n",
    "#             print(decoder_output[0][0].size())\n",
    "#             print( target_variable[0][di])\n",
    "#             print( target_variable[0][di].size())\n",
    "            loss += criterion(decoder_output, target_variable[di])\n",
    "#             print(\"loss is {}\".format(loss))\n",
    "            \n",
    "            # Get most likely word index (highest value) from output\n",
    "            topv, topi = decoder_output.data.topk(1)\n",
    "            ni = topi[0][0]\n",
    "#             print(\"ni is {}\".format(ni))\n",
    "            \n",
    "            decoder_input = Variable(torch.LongTensor([[ni]])) # Chosen word is next input\n",
    "            if USE_CUDA: decoder_input = decoder_input.cuda()\n",
    "\n",
    "            # Stop at end of sentence (not necessary when using known targets)\n",
    "            if ni == EOS_token: break\n",
    "\n",
    "    # Backpropagation\n",
    "    loss.backward()\n",
    "    torch.nn.utils.clip_grad_norm(encoder.parameters(), clip)\n",
    "    torch.nn.utils.clip_grad_norm(decoder.parameters(), clip)\n",
    "    encoder_optimizer.step()\n",
    "    decoder_optimizer.step()\n",
    "    \n",
    "    return loss.data[0] / target_length"
   ]
  },
  {
   "cell_type": "code",
   "execution_count": 16,
   "metadata": {
    "collapsed": true
   },
   "outputs": [],
   "source": [
    "def as_minutes(s):\n",
    "    m = math.floor(s / 60)\n",
    "    s -= m * 60\n",
    "    return '%dm %ds' % (m, s)\n",
    "\n",
    "def time_since(since, percent):\n",
    "    now = time.time()\n",
    "    s = now - since\n",
    "    es = s / (percent)\n",
    "    rs = es - s\n",
    "    return '%s (- %s)' % (as_minutes(s), as_minutes(rs))"
   ]
  },
  {
   "cell_type": "code",
   "execution_count": 17,
   "metadata": {},
   "outputs": [],
   "source": [
    "# Configuring training\n",
    "n_epochs = 500\n",
    "plot_every = 20\n",
    "print_every = 20\n",
    "\n",
    "# Keep track of time elapsed and running averages\n",
    "start = time.time()\n",
    "plot_losses = []\n",
    "print_loss_total = 0 # Reset every print_every\n",
    "plot_loss_total = 0 # Reset every plot_every"
   ]
  },
  {
   "cell_type": "code",
   "execution_count": 18,
   "metadata": {
    "collapsed": true
   },
   "outputs": [],
   "source": [
    "hidden_size = 200\n",
    "n_layers = 2\n",
    "dropout_p = 0.05\n",
    "\n",
    "# Initialize models\n",
    "encoder = EncoderRNN(len(vocab_en), hidden_size, n_layers)\n",
    "decoder = AttnDecoderRNN(hidden_size, len(vocab_zh), n_layers, dropout_p=dropout_p)\n",
    "\n",
    "# Move models to GPU\n",
    "if USE_CUDA:\n",
    "    encoder.cuda()\n",
    "    decoder.cuda()\n",
    "\n",
    "# Initialize optimizers and criterion\n",
    "learning_rate = 0.0001\n",
    "encoder_optimizer = optim.Adam(encoder.parameters(), lr=learning_rate)\n",
    "decoder_optimizer = optim.Adam(decoder.parameters(), lr=learning_rate)\n",
    "criterion = nn.NLLLoss()"
   ]
  },
  {
   "cell_type": "code",
   "execution_count": 19,
   "metadata": {
    "scrolled": true
   },
   "outputs": [
    {
     "name": "stdout",
     "output_type": "stream",
     "text": [
      "0m 3s (- 1m 25s) (20 4%) 9.4654\n",
      "0m 4s (- 0m 55s) (40 8%) 9.4574\n",
      "0m 6s (- 0m 47s) (60 12%) 9.4246\n",
      "0m 7s (- 0m 40s) (80 16%) 9.4286\n",
      "0m 8s (- 0m 35s) (100 20%) 9.3633\n",
      "0m 10s (- 0m 32s) (120 24%) 9.3299\n",
      "0m 11s (- 0m 29s) (140 28%) 9.2208\n",
      "0m 12s (- 0m 27s) (160 32%) 9.0363\n",
      "0m 14s (- 0m 25s) (180 36%) 8.7492\n",
      "0m 16s (- 0m 24s) (200 40%) 8.3814\n",
      "0m 17s (- 0m 22s) (220 44%) 7.8470\n",
      "0m 18s (- 0m 20s) (240 48%) 7.7417\n",
      "0m 20s (- 0m 18s) (260 52%) 7.2479\n",
      "0m 21s (- 0m 16s) (280 56%) 7.5251\n",
      "0m 22s (- 0m 15s) (300 60%) 7.6164\n",
      "0m 24s (- 0m 13s) (320 64%) 7.8323\n",
      "0m 25s (- 0m 11s) (340 68%) 7.7336\n",
      "0m 26s (- 0m 10s) (360 72%) 7.7130\n",
      "0m 28s (- 0m 8s) (380 76%) 7.3151\n",
      "0m 29s (- 0m 7s) (400 80%) 7.4739\n",
      "0m 31s (- 0m 5s) (420 84%) 7.6597\n",
      "0m 32s (- 0m 4s) (440 88%) 8.2388\n",
      "0m 33s (- 0m 2s) (460 92%) 7.6324\n",
      "0m 35s (- 0m 1s) (480 96%) 7.3647\n",
      "0m 36s (- 0m 0s) (500 100%) 7.9000\n"
     ]
    }
   ],
   "source": [
    "# Begin!\n",
    "for epoch in range(1, n_epochs + 1):\n",
    "    \n",
    "    # Get training data for this cycle\n",
    "    indices = np.arange(len(np.array(pairs_to_vec)))\n",
    "    np.random.shuffle(indices)\n",
    "\n",
    "    training_pair = pairs_to_vec[indices[0]]\n",
    "    input_variable = Variable(torch.LongTensor(training_pair[0]).view(-1, 1))\n",
    "    target_variable = Variable(torch.LongTensor(training_pair[1]).view(-1, 1))\n",
    "    \n",
    "    if USE_CUDA:\n",
    "#         print(\"test\")\n",
    "        input_variable = input_variable.cuda()\n",
    "        target_variable = target_variable.cuda()\n",
    "    \n",
    "#     print(input_variable.is_cuda)\n",
    "#     print(target_variable.is_cuda)\n",
    "    \n",
    "#     print(input_variable.size())\n",
    "#     print(input_variable)\n",
    "\n",
    "    # Run the train function\n",
    "    loss = train(input_variable, target_variable, encoder, decoder, encoder_optimizer, decoder_optimizer, criterion)\n",
    "#     print(\"loss is {}\".format(loss))\n",
    "    # Keep track of loss\n",
    "    print_loss_total += loss\n",
    "    plot_loss_total += loss\n",
    "\n",
    "    if epoch == 0: continue\n",
    "\n",
    "    if epoch % print_every == 0:\n",
    "        print_loss_avg = print_loss_total / print_every\n",
    "        print_loss_total = 0\n",
    "        print_summary = '%s (%d %d%%) %.4f' % (time_since(start, epoch / n_epochs), epoch, epoch / n_epochs * 100, print_loss_avg)\n",
    "        print(print_summary)\n",
    "\n",
    "    if epoch % plot_every == 0:\n",
    "        plot_loss_avg = plot_loss_total / plot_every\n",
    "        plot_losses.append(plot_loss_avg)\n",
    "        plot_loss_total = 0"
   ]
  },
  {
   "cell_type": "code",
   "execution_count": 20,
   "metadata": {},
   "outputs": [
    {
     "data": {
      "text/plain": [
       "<matplotlib.figure.Figure at 0x7f2b0a888f28>"
      ]
     },
     "metadata": {},
     "output_type": "display_data"
    },
    {
     "data": {
      "image/png": "[encoded data removed]",
      "text/plain": [
       "<matplotlib.figure.Figure at 0x7f2b04682588>"
      ]
     },
     "metadata": {},
     "output_type": "display_data"
    }
   ],
   "source": [
    "import matplotlib.pyplot as plt\n",
    "import matplotlib.ticker as ticker\n",
    "import numpy as np\n",
    "%matplotlib inline\n",
    "\n",
    "def show_plot(points):\n",
    "    plt.figure()\n",
    "    fig, ax = plt.subplots()\n",
    "    loc = ticker.MultipleLocator(base=0.2) # put ticks at regular intervals\n",
    "    ax.yaxis.set_major_locator(loc)\n",
    "    plt.plot(points)\n",
    "\n",
    "show_plot(plot_losses)"
   ]
  },
  {
   "cell_type": "code",
   "execution_count": 49,
   "metadata": {
    "collapsed": true
   },
   "outputs": [],
   "source": [
    "index2word_en = {\"SOS\": 0, \"EOS\": 1}\n",
    "\n",
    "for i, word in enumerate(vocab_en):\n",
    "    index2word_en[i + 2] = word\n",
    "    \n",
    "index2word_zh = {\"SOS\": 0, \"EOS\": 1}\n",
    "for i, word in enumerate(vocab_zh):\n",
    "    index2word_zh[i + 2] = word"
   ]
  },
  {
   "cell_type": "code",
   "execution_count": null,
   "metadata": {
    "collapsed": true
   },
   "outputs": [],
   "source": []
  },
  {
   "cell_type": "code",
   "execution_count": 53,
   "metadata": {
    "collapsed": true
   },
   "outputs": [],
   "source": [
    "def evaluate(sentence, max_length=MAX_LENGTH):\n",
    "    print(sentence)\n",
    "    \n",
    "    input_variable = Variable(torch.LongTensor(sentence).view(-1, 1))\n",
    "    input_length = input_variable.size()[0]\n",
    "    \n",
    "    if USE_CUDA: input_variable = input_variable.cuda()\n",
    "    \n",
    "    # Run through encoder\n",
    "    encoder_hidden = encoder.init_hidden()\n",
    "    encoder_outputs, encoder_hidden = encoder(input_variable, encoder_hidden)\n",
    "\n",
    "    # Create starting vectors for decoder\n",
    "    decoder_input = Variable(torch.LongTensor([[SOS_token]])) # SOS\n",
    "    decoder_context = Variable(torch.zeros(1, 1, decoder.hidden_size))\n",
    "    if USE_CUDA:\n",
    "        decoder_input = decoder_input.cuda()\n",
    "        decoder_context = decoder_context.cuda()\n",
    "\n",
    "    decoder_hidden = encoder_hidden\n",
    "    \n",
    "    decoded_words = []\n",
    "    decoder_attentions = torch.zeros(max_length, max_length)\n",
    "    s(\"decoder_attions\", decoder_attentions.size())\n",
    "    # Run through decoder\n",
    "    for di in range(max_length):\n",
    "        decoder_output, decoder_context, decoder_hidden, decoder_attention = decoder(decoder_input, decoder_context, decoder_hidden, encoder_outputs)\n",
    "        s(\"decoder_attion\", decoder_attention.size())\n",
    "        decoder_attentions[di,:decoder_attention.size(0)] += decoder_attention.cpu().data\n",
    "\n",
    "        # Choose top word from output\n",
    "        topv, topi = decoder_output.data.topk(1)\n",
    "        ni = topi[0][0]\n",
    "        if ni == EOS_token:\n",
    "            decoded_words.append('<EOS>')\n",
    "            break\n",
    "        else:\n",
    "            decoded_words.append(index2word_zh[ni])\n",
    "            \n",
    "        # Next input is chosen word\n",
    "        decoder_input = Variable(torch.LongTensor([[ni]]))\n",
    "        if USE_CUDA: decoder_input = decoder_input.cuda()\n",
    "    \n",
    "    return decoded_words, decoder_attentions[:di+1, :len(encoder_outputs)]"
   ]
  },
  {
   "cell_type": "code",
   "execution_count": 54,
   "metadata": {
    "collapsed": true
   },
   "outputs": [],
   "source": [
    "import random\n",
    "\n",
    "def evaluate_randomly():\n",
    "    indices = np.arange(len(np.array(pairs_to_vec)))\n",
    "    np.random.shuffle(indices)\n",
    "    pair_vec = pairs_to_vec[indices[0]]\n",
    "    pair = pairs[indices[0]]\n",
    "    \n",
    "    output_words, decoder_attn = evaluate(pair_vec[0], 10)\n",
    "    output_sentence = ' '.join(output_words)\n",
    "    \n",
    "    print('>', pair[0])\n",
    "    print('=', pair[1])\n",
    "    print('<', output_sentence)\n",
    "    print('')"
   ]
  },
  {
   "cell_type": "code",
   "execution_count": 55,
   "metadata": {},
   "outputs": [
    {
     "name": "stdout",
     "output_type": "stream",
     "text": [
      "[4297, 5673, 3692, 1888]\n",
      "decoder_attions's size is torch.Size([10, 10])\n",
      "decoder_attion's size is torch.Size([4])\n",
      "decoder_attion's size is torch.Size([4])\n",
      "decoder_attion's size is torch.Size([4])\n",
      "decoder_attion's size is torch.Size([4])\n",
      "decoder_attion's size is torch.Size([4])\n",
      "decoder_attion's size is torch.Size([4])\n",
      "decoder_attion's size is torch.Size([4])\n",
      "decoder_attion's size is torch.Size([4])\n",
      "decoder_attion's size is torch.Size([4])\n",
      "decoder_attion's size is torch.Size([4])\n",
      "> i m not guilty\n",
      "= 我没有罪\n",
      "< 我 我 我 的 的 的 的 的 的 的\n",
      "\n"
     ]
    }
   ],
   "source": [
    "evaluate_randomly()"
   ]
  },
  {
   "cell_type": "code",
   "execution_count": 47,
   "metadata": {},
   "outputs": [
    {
     "ename": "KeyError",
     "evalue": "1",
     "output_type": "error",
     "traceback": [
      "\u001b[0;31m---------------------------------------------------------------------------\u001b[0m",
      "\u001b[0;31mKeyError\u001b[0m                                  Traceback (most recent call last)",
      "\u001b[0;32m<ipython-input-47-fe4db624e164>\u001b[0m in \u001b[0;36m<module>\u001b[0;34m()\u001b[0m\n\u001b[0;32m----> 1\u001b[0;31m \u001b[0mindex2word_zh\u001b[0m\u001b[0;34m[\u001b[0m\u001b[0;36m1\u001b[0m\u001b[0;34m]\u001b[0m\u001b[0;34m\u001b[0m\u001b[0m\n\u001b[0m",
      "\u001b[0;31mKeyError\u001b[0m: 1"
     ]
    }
   ],
   "source": [
    "index2word_zh[1]"
   ]
  },
  {
   "cell_type": "code",
   "execution_count": null,
   "metadata": {
    "collapsed": true
   },
   "outputs": [],
   "source": []
  },
  {
   "cell_type": "code",
   "execution_count": null,
   "metadata": {
    "collapsed": true
   },
   "outputs": [],
   "source": []
  },
  {
   "cell_type": "code",
   "execution_count": null,
   "metadata": {
    "collapsed": true
   },
   "outputs": [],
   "source": []
  },
  {
   "cell_type": "code",
   "execution_count": null,
   "metadata": {
    "collapsed": true
   },
   "outputs": [],
   "source": [
    "# # 对模型进行测试\n",
    "# encoder_test = EncoderRNN(10, 10, 1)\n",
    "# decoder_test = AttnDecoderRNN(10, 10, 1)\n",
    "\n",
    "# print(encoder_test)\n",
    "# print(decoder_test)\n",
    "\n",
    "# encoder_hidden = encoder_test.init_hidden()\n",
    "# word_input = Variable(torch.LongTensor([[1, 9, 3, 4]]))\n",
    "# print(word_input)\n",
    "# print(word_input.size())\n",
    "\n",
    "\n",
    "# if USE_CUDA:\n",
    "#     encoder_test.cuda()\n",
    "#     word_input.cuda()\n",
    "\n",
    "# encoder_outputs, encoder_hidden = encoder_test(word_input, encoder_hidden)\n",
    "\n",
    "# word_inputs = Variable(torch.LongTensor([1, 2, 6, 6, 8]))\n",
    "# # 不是很理解\n",
    "# decoder_attns = torch.zeros(1, 5, 4)\n",
    "# decoder_hidden = encoder_hidden \n",
    "# decoder_context = Variable(torch.zeros(1, 1, decoder_test.hidden_size))\n",
    "\n",
    "# if USE_CUDA:\n",
    "#     decoder_test.cuda()\n",
    "#     word_inputs = word_inputs.cuda()\n",
    "#     decoder_context = decoder_context.cuda()\n",
    "    \n",
    "# for i in range(5):\n",
    "#     decoder_output, decoder_context, decoder_hidden, decoder_attn = decoder_test(word_inputs[i].view(1, -1), decoder_context, decoder_hidden, encoder_outputs)\n",
    "#     print(decoder_output)\n",
    "#     decoder_attns[0, i] = decoder_attn.squeeze(0).cpu().data"
   ]
  },
  {
   "cell_type": "code",
   "execution_count": 95,
   "metadata": {},
   "outputs": [
    {
     "name": "stdout",
     "output_type": "stream",
     "text": [
      "0\n",
      "1\n"
     ]
    }
   ],
   "source": [
    "for i in range(2):\n",
    "    print(i)"
   ]
  },
  {
   "cell_type": "code",
   "execution_count": 56,
   "metadata": {
    "collapsed": true
   },
   "outputs": [],
   "source": [
    " m = nn.LogSoftmax()"
   ]
  },
  {
   "cell_type": "code",
   "execution_count": 38,
   "metadata": {
    "collapsed": true
   },
   "outputs": [],
   "source": [
    "a = Variable(torch.FloatTensor([1,1,1]).view(1, -1).unsqueeze(0))"
   ]
  },
  {
   "cell_type": "code",
   "execution_count": 39,
   "metadata": {},
   "outputs": [
    {
     "data": {
      "text/plain": [
       "False"
      ]
     },
     "execution_count": 39,
     "metadata": {},
     "output_type": "execute_result"
    }
   ],
   "source": [
    "a.is_cuda"
   ]
  },
  {
   "cell_type": "code",
   "execution_count": 40,
   "metadata": {},
   "outputs": [
    {
     "data": {
      "text/plain": [
       "Variable containing:\n",
       "(0 ,.,.) = \n",
       "  1  1  1\n",
       "[torch.cuda.FloatTensor of size 1x1x3 (GPU 0)]"
      ]
     },
     "execution_count": 40,
     "metadata": {},
     "output_type": "execute_result"
    }
   ],
   "source": [
    "a.cuda()"
   ]
  },
  {
   "cell_type": "code",
   "execution_count": 41,
   "metadata": {},
   "outputs": [
    {
     "data": {
      "text/plain": [
       "False"
      ]
     },
     "execution_count": 41,
     "metadata": {},
     "output_type": "execute_result"
    }
   ],
   "source": [
    "a.is_cuda"
   ]
  },
  {
   "cell_type": "code",
   "execution_count": null,
   "metadata": {
    "collapsed": true
   },
   "outputs": [],
   "source": []
  }
 ],
 "metadata": {
  "kernelspec": {
   "display_name": "Python 3",
   "language": "python",
   "name": "python3"
  },
  "language_info": {
   "codemirror_mode": {
    "name": "ipython",
    "version": 3
   },
   "file_extension": ".py",
   "mimetype": "text/x-python",
   "name": "python",
   "nbconvert_exporter": "python",
   "pygments_lexer": "ipython3",
   "version": "3.6.2"
  }
 },
 "nbformat": 4,
 "nbformat_minor": 2
}
