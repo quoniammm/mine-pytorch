{
 "cells": [
  {
   "cell_type": "code",
   "execution_count": 1,
   "metadata": {},
   "outputs": [
    {
     "name": "stderr",
     "output_type": "stream",
     "text": [
      "Using TensorFlow backend.\n",
      "/home/quoniammm/anaconda3/envs/py3Tfgpu/lib/python3.6/importlib/_bootstrap.py:205: RuntimeWarning:\n",
      "\n",
      "compiletime version 3.5 of module 'tensorflow.python.framework.fast_tensor_util' does not match runtime version 3.6\n",
      "\n"
     ]
    }
   ],
   "source": [
    "import numpy as np\n",
    "import pandas as pd\n",
    "import matplotlib.pyplot as plt\n",
    "\n",
    "import plotly\n",
    "plotly.tools.set_credentials_file(username='quoniammm', api_key='IF7kV6idFRdoo7LdgGRp')\n",
    "import plotly.plotly as py\n",
    "import plotly.graph_objs as go\n",
    "from wordcloud import WordCloud, STOPWORDS\n",
    "from sklearn.feature_extraction.text import CountVectorizer\n",
    "from sklearn.preprocessing import LabelEncoder, OneHotEncoder\n",
    "from sklearn.model_selection import train_test_split\n",
    "\n",
    "import nltk\n",
    "\n",
    "import torch\n",
    "import torch.nn as nn\n",
    "import torch.optim as optim\n",
    "import torch.nn.functional as F\n",
    "from torch.autograd import Variable\n",
    "\n",
    "from keras.preprocessing.sequence import pad_sequences\n",
    "\n",
    "%matplotlib inline\n",
    "\n",
    "train = pd.read_csv('train.csv')\n",
    "test = pd.read_csv('test.csv')\n",
    "sample = pd.read_csv('sample_submission.csv')"
   ]
  },
  {
   "cell_type": "code",
   "execution_count": 2,
   "metadata": {},
   "outputs": [
    {
     "name": "stdout",
     "output_type": "stream",
     "text": [
      "47557\n",
      "test length: 8392\n",
      "train length: 17621\n",
      "valid length: 1958\n"
     ]
    }
   ],
   "source": [
    "# bag_words\n",
    "all_words = set(train['text'].str.split(expand=True).unstack())\n",
    "\n",
    "def wordandindex(vocab):\n",
    "    return {word: i + 3 for i, word in enumerate(vocab)}, {i + 3: word for i, word in enumerate(vocab)}\n",
    "\n",
    "word2index, index2word = wordandindex(all_words)\n",
    "\n",
    "label_encoder = LabelEncoder()\n",
    "# 数据集准备\n",
    "X = np.array(train.text.apply(lambda sen: [word2index[word] for word in sen.split(' ')]))\n",
    "y = np.array(label_encoder.fit_transform(train.author))\n",
    "assert len(X) == len(y)\n",
    "print(len(all_words))\n",
    "#print(len(train))\n",
    "print(\"test length: {}\".format(len(test)))\n",
    "\n",
    "maxlen = 256\n",
    "X_pad = pad_sequences(sequences=X, maxlen=maxlen)\n",
    "\n",
    "# 句子填充\n",
    "# X_pad = np.zeros((19579, 861))\n",
    "\n",
    "# for i in range(X_pad.shape[0]):\n",
    "#     for j in range(len(X[i])):\n",
    "#         X_pad[i, j] = X[i][j]\n",
    "\n",
    "xtrain, xvalid, ytrain, yvalid = train_test_split(\n",
    "    X_pad, y, \n",
    "    stratify=y, \n",
    "    random_state=42, \n",
    "    test_size=0.1, \n",
    "    shuffle=True\n",
    ")\n",
    "print(\"train length: {}\".format(len(xtrain)))\n",
    "#print(xtrain.type)\n",
    "print(\"valid length: {}\".format(len(xvalid)))\n",
    "#print(xvalid.type)\n",
    "\n",
    "# 最长句子长度设置为 input_size\n",
    "# max = 0\n",
    "# for i, x in enumerate(X):\n",
    "#     # print(len(x))\n",
    "#     if len(x) > max:\n",
    "#         max = len(x)\n",
    "        \n",
    "# print(max)\n",
    "# train.iloc[9215].values\n",
    "\n",
    "epochs = 1\n",
    "lr = 1e-5"
   ]
  },
  {
   "cell_type": "code",
   "execution_count": 3,
   "metadata": {
    "collapsed": true
   },
   "outputs": [],
   "source": [
    "-"
   ]
  },
  {
   "cell_type": "code",
   "execution_count": 4,
   "metadata": {},
   "outputs": [
    {
     "data": {
      "text/plain": [
       "textCNN(\n",
       "  (embed): Embedding(47560, 256)\n",
       "  (convs): ModuleList(\n",
       "    (0): Conv2d (1, 200, kernel_size=(3, 256), stride=(1, 1))\n",
       "    (1): Conv2d (1, 200, kernel_size=(4, 256), stride=(1, 1))\n",
       "    (2): Conv2d (1, 200, kernel_size=(5, 256), stride=(1, 1))\n",
       "  )\n",
       "  (dropout): Dropout(p=0.6)\n",
       "  (fc): Linear(in_features=600, out_features=3)\n",
       ")"
      ]
     },
     "execution_count": 4,
     "metadata": {},
     "output_type": "execute_result"
    }
   ],
   "source": [
    "model = textCNN(47560, 256, (3,4,5), 200, 0.6, 3)\n",
    "optimizer = optim.Adam(model.parameters(), lr=lr)\n",
    "criterion = nn.NLLLoss()\n",
    "model.cuda()"
   ]
  },
  {
   "cell_type": "code",
   "execution_count": 5,
   "metadata": {},
   "outputs": [
    {
     "name": "stdout",
     "output_type": "stream",
     "text": [
      "after 0% training loss=1.5119270086288452, valid loss=1.2965631484985352, at 0 epoch\n",
      "after 18% training loss=1.1755741834640503, valid loss=0.9429967403411865, at 0 epoch\n",
      "after 36% training loss=1.1623263359069824, valid loss=1.3072689771652222, at 0 epoch\n",
      "after 54% training loss=1.234135627746582, valid loss=1.17436945438385, at 0 epoch\n",
      "after 73% training loss=1.2288755178451538, valid loss=0.8483014702796936, at 0 epoch\n",
      "after 91% training loss=1.026853084564209, valid loss=1.0943681001663208, at 0 epoch\n",
      "after 0% training loss=0.8289508819580078, valid loss=1.1814053058624268, at 1 epoch\n",
      "after 18% training loss=0.9285141229629517, valid loss=0.9456660747528076, at 1 epoch\n",
      "after 36% training loss=1.1711610555648804, valid loss=1.1111836433410645, at 1 epoch\n",
      "after 54% training loss=1.3096060752868652, valid loss=1.3559331893920898, at 1 epoch\n",
      "after 73% training loss=1.1202024221420288, valid loss=1.0608338117599487, at 1 epoch\n",
      "after 91% training loss=1.0681102275848389, valid loss=1.102774739265442, at 1 epoch\n",
      "after 0% training loss=1.347650170326233, valid loss=1.041257619857788, at 2 epoch\n",
      "after 18% training loss=0.8814452290534973, valid loss=0.9551208019256592, at 2 epoch\n",
      "after 36% training loss=0.8963322639465332, valid loss=1.1497316360473633, at 2 epoch\n",
      "after 54% training loss=0.8733025789260864, valid loss=0.8795940279960632, at 2 epoch\n",
      "after 73% training loss=0.9591933488845825, valid loss=1.0499346256256104, at 2 epoch\n",
      "after 91% training loss=0.8780777454376221, valid loss=0.8849719166755676, at 2 epoch\n",
      "after 0% training loss=0.6081766486167908, valid loss=0.9473648071289062, at 3 epoch\n",
      "after 18% training loss=0.7060492634773254, valid loss=0.9922812581062317, at 3 epoch\n",
      "after 36% training loss=1.2204643487930298, valid loss=1.29429292678833, at 3 epoch\n",
      "after 54% training loss=0.8404817581176758, valid loss=0.8553217649459839, at 3 epoch\n",
      "after 73% training loss=1.164037823677063, valid loss=1.1378297805786133, at 3 epoch\n",
      "after 91% training loss=1.158149242401123, valid loss=0.9763368964195251, at 3 epoch\n",
      "after 0% training loss=0.7063928246498108, valid loss=0.8557485938072205, at 4 epoch\n",
      "after 18% training loss=0.6020875573158264, valid loss=0.8274545669555664, at 4 epoch\n",
      "after 36% training loss=0.6461575031280518, valid loss=1.061720371246338, at 4 epoch\n",
      "after 54% training loss=0.6948546767234802, valid loss=0.756313145160675, at 4 epoch\n",
      "after 73% training loss=0.7868205308914185, valid loss=1.0620547533035278, at 4 epoch\n",
      "after 91% training loss=0.8973916172981262, valid loss=0.6203514933586121, at 4 epoch\n",
      "after 0% training loss=0.5043478608131409, valid loss=0.8961846232414246, at 5 epoch\n",
      "after 18% training loss=0.4728814363479614, valid loss=0.9758802056312561, at 5 epoch\n",
      "after 36% training loss=0.6742551922798157, valid loss=1.2143546342849731, at 5 epoch\n",
      "after 54% training loss=0.6860563158988953, valid loss=0.9562509655952454, at 5 epoch\n",
      "after 73% training loss=0.7224018573760986, valid loss=0.7834556102752686, at 5 epoch\n",
      "after 91% training loss=0.8297401070594788, valid loss=1.09809148311615, at 5 epoch\n",
      "after 0% training loss=0.7110055088996887, valid loss=0.7128766179084778, at 6 epoch\n",
      "after 18% training loss=0.4913580119609833, valid loss=0.9888207316398621, at 6 epoch\n",
      "after 36% training loss=0.4071865677833557, valid loss=0.8079051375389099, at 6 epoch\n",
      "after 54% training loss=0.6531721353530884, valid loss=0.5815395712852478, at 6 epoch\n",
      "after 73% training loss=0.7469116449356079, valid loss=0.7507921457290649, at 6 epoch\n",
      "after 91% training loss=0.9284103512763977, valid loss=1.0483007431030273, at 6 epoch\n",
      "after 0% training loss=0.24130462110042572, valid loss=0.9316075444221497, at 7 epoch\n",
      "after 18% training loss=0.4028186500072479, valid loss=0.9190222024917603, at 7 epoch\n",
      "after 36% training loss=0.47327306866645813, valid loss=1.1553499698638916, at 7 epoch\n",
      "after 54% training loss=0.47867026925086975, valid loss=0.761955738067627, at 7 epoch\n",
      "after 73% training loss=0.8103386163711548, valid loss=1.0775954723358154, at 7 epoch\n",
      "after 91% training loss=0.6180907487869263, valid loss=1.0161186456680298, at 7 epoch\n",
      "after 0% training loss=0.7385250329971313, valid loss=1.0847901105880737, at 8 epoch\n",
      "after 18% training loss=0.308881551027298, valid loss=0.79242342710495, at 8 epoch\n",
      "after 36% training loss=0.534004271030426, valid loss=1.1735610961914062, at 8 epoch\n",
      "after 54% training loss=0.43851521611213684, valid loss=1.3650211095809937, at 8 epoch\n",
      "after 73% training loss=0.5741456747055054, valid loss=1.2882863283157349, at 8 epoch\n",
      "after 91% training loss=0.6868588328361511, valid loss=0.5186190009117126, at 8 epoch\n",
      "after 0% training loss=0.1503085196018219, valid loss=1.0291937589645386, at 9 epoch\n",
      "after 18% training loss=0.3381384313106537, valid loss=0.7448714971542358, at 9 epoch\n",
      "after 36% training loss=0.2722089886665344, valid loss=0.9388113617897034, at 9 epoch\n",
      "after 54% training loss=0.4149003028869629, valid loss=0.7340897917747498, at 9 epoch\n",
      "after 73% training loss=0.5008309483528137, valid loss=0.8296052813529968, at 9 epoch\n",
      "after 91% training loss=0.6943174600601196, valid loss=1.1706719398498535, at 9 epoch\n",
      "after 0% training loss=0.2275598645210266, valid loss=0.5997817516326904, at 10 epoch\n",
      "after 18% training loss=0.22221583127975464, valid loss=0.9806187152862549, at 10 epoch\n",
      "after 36% training loss=0.13897088170051575, valid loss=1.2309457063674927, at 10 epoch\n",
      "after 54% training loss=0.34389567375183105, valid loss=0.6799921989440918, at 10 epoch\n",
      "after 73% training loss=0.4885009825229645, valid loss=0.8849722743034363, at 10 epoch\n",
      "after 91% training loss=0.5444713830947876, valid loss=0.545412540435791, at 10 epoch\n",
      "after 0% training loss=0.18999360501766205, valid loss=1.0244208574295044, at 11 epoch\n",
      "after 18% training loss=0.16887256503105164, valid loss=1.1391857862472534, at 11 epoch\n",
      "after 36% training loss=0.2779664993286133, valid loss=1.019636869430542, at 11 epoch\n",
      "after 54% training loss=0.3103187680244446, valid loss=0.914505124092102, at 11 epoch\n",
      "after 73% training loss=0.34726834297180176, valid loss=1.0618011951446533, at 11 epoch\n",
      "after 91% training loss=0.5183866024017334, valid loss=0.572482705116272, at 11 epoch\n",
      "after 0% training loss=0.3330180048942566, valid loss=1.3277873992919922, at 12 epoch\n",
      "after 18% training loss=0.11273777484893799, valid loss=0.8486772179603577, at 12 epoch\n",
      "after 36% training loss=0.22709135711193085, valid loss=1.3659415245056152, at 12 epoch\n",
      "after 54% training loss=0.19647517800331116, valid loss=0.6944434642791748, at 12 epoch\n",
      "after 73% training loss=0.27716588973999023, valid loss=1.0277069807052612, at 12 epoch\n",
      "after 91% training loss=0.7824095487594604, valid loss=0.9196519255638123, at 12 epoch\n",
      "after 0% training loss=0.08337230980396271, valid loss=1.2582409381866455, at 13 epoch\n",
      "after 18% training loss=0.17280304431915283, valid loss=0.9757266640663147, at 13 epoch\n",
      "after 36% training loss=0.2631707191467285, valid loss=0.7089603543281555, at 13 epoch\n",
      "after 54% training loss=0.2141903042793274, valid loss=0.8551070094108582, at 13 epoch\n",
      "after 73% training loss=0.5353144407272339, valid loss=0.8785274624824524, at 13 epoch\n",
      "after 91% training loss=0.4745458960533142, valid loss=0.9650824069976807, at 13 epoch\n",
      "after 0% training loss=0.41363877058029175, valid loss=1.2402234077453613, at 14 epoch\n",
      "after 18% training loss=0.10575006902217865, valid loss=0.742311954498291, at 14 epoch\n",
      "after 36% training loss=0.08777200430631638, valid loss=0.8121798038482666, at 14 epoch\n",
      "after 54% training loss=0.17703083157539368, valid loss=0.6245444416999817, at 14 epoch\n",
      "after 73% training loss=0.4068504273891449, valid loss=0.9970495104789734, at 14 epoch\n",
      "after 91% training loss=0.43437498807907104, valid loss=1.2237509489059448, at 14 epoch\n",
      "after 0% training loss=0.08310618996620178, valid loss=0.8914129137992859, at 15 epoch\n",
      "after 18% training loss=0.07797821611166, valid loss=1.0198285579681396, at 15 epoch\n",
      "after 36% training loss=0.08684289455413818, valid loss=0.7491596937179565, at 15 epoch\n"
     ]
    },
    {
     "ename": "KeyboardInterrupt",
     "evalue": "",
     "output_type": "error",
     "traceback": [
      "\u001b[0;31m---------------------------------------------------------------------------\u001b[0m",
      "\u001b[0;31mKeyboardInterrupt\u001b[0m                         Traceback (most recent call last)",
      "\u001b[0;32m<ipython-input-5-39cf78af913e>\u001b[0m in \u001b[0;36m<module>\u001b[0;34m()\u001b[0m\n\u001b[1;32m     19\u001b[0m \u001b[0;34m\u001b[0m\u001b[0m\n\u001b[1;32m     20\u001b[0m         \u001b[0mshuffle\u001b[0m \u001b[0;34m=\u001b[0m \u001b[0mnp\u001b[0m\u001b[0;34m.\u001b[0m\u001b[0mrandom\u001b[0m\u001b[0;34m.\u001b[0m\u001b[0mrandint\u001b[0m\u001b[0;34m(\u001b[0m\u001b[0;36m0\u001b[0m\u001b[0;34m,\u001b[0m \u001b[0;36m1958\u001b[0m\u001b[0;34m,\u001b[0m \u001b[0;36m32\u001b[0m\u001b[0;34m)\u001b[0m\u001b[0;34m\u001b[0m\u001b[0m\n\u001b[0;32m---> 21\u001b[0;31m         \u001b[0mvx_valid_batch\u001b[0m \u001b[0;34m=\u001b[0m \u001b[0mvx_valid\u001b[0m\u001b[0;34m.\u001b[0m\u001b[0mindex_select\u001b[0m\u001b[0;34m(\u001b[0m\u001b[0;36m0\u001b[0m\u001b[0;34m,\u001b[0m \u001b[0mVariable\u001b[0m\u001b[0;34m(\u001b[0m\u001b[0mtorch\u001b[0m\u001b[0;34m.\u001b[0m\u001b[0mLongTensor\u001b[0m\u001b[0;34m(\u001b[0m\u001b[0mshuffle\u001b[0m\u001b[0;34m)\u001b[0m\u001b[0;34m)\u001b[0m\u001b[0;34m.\u001b[0m\u001b[0mcuda\u001b[0m\u001b[0;34m(\u001b[0m\u001b[0;34m)\u001b[0m\u001b[0;34m)\u001b[0m\u001b[0;34m\u001b[0m\u001b[0m\n\u001b[0m\u001b[1;32m     22\u001b[0m         \u001b[0mvy_valid_batch\u001b[0m \u001b[0;34m=\u001b[0m \u001b[0mvy_valid\u001b[0m\u001b[0;34m.\u001b[0m\u001b[0mindex_select\u001b[0m\u001b[0;34m(\u001b[0m\u001b[0;36m0\u001b[0m\u001b[0;34m,\u001b[0m \u001b[0mVariable\u001b[0m\u001b[0;34m(\u001b[0m\u001b[0mtorch\u001b[0m\u001b[0;34m.\u001b[0m\u001b[0mLongTensor\u001b[0m\u001b[0;34m(\u001b[0m\u001b[0mshuffle\u001b[0m\u001b[0;34m)\u001b[0m\u001b[0;34m)\u001b[0m\u001b[0;34m.\u001b[0m\u001b[0mcuda\u001b[0m\u001b[0;34m(\u001b[0m\u001b[0;34m)\u001b[0m\u001b[0;34m)\u001b[0m\u001b[0;34m\u001b[0m\u001b[0m\n\u001b[1;32m     23\u001b[0m \u001b[0;34m\u001b[0m\u001b[0m\n",
      "\u001b[0;32m/home/quoniammm/anaconda3/envs/py3Tfgpu/lib/python3.6/site-packages/torch/autograd/variable.py\u001b[0m in \u001b[0;36mcuda\u001b[0;34m(self, device, async)\u001b[0m\n\u001b[1;32m    296\u001b[0m \u001b[0;34m\u001b[0m\u001b[0m\n\u001b[1;32m    297\u001b[0m     \u001b[0;32mdef\u001b[0m \u001b[0mcuda\u001b[0m\u001b[0;34m(\u001b[0m\u001b[0mself\u001b[0m\u001b[0;34m,\u001b[0m \u001b[0mdevice\u001b[0m\u001b[0;34m=\u001b[0m\u001b[0;32mNone\u001b[0m\u001b[0;34m,\u001b[0m \u001b[0masync\u001b[0m\u001b[0;34m=\u001b[0m\u001b[0;32mFalse\u001b[0m\u001b[0;34m)\u001b[0m\u001b[0;34m:\u001b[0m\u001b[0;34m\u001b[0m\u001b[0m\n\u001b[0;32m--> 298\u001b[0;31m         \u001b[0;32mreturn\u001b[0m \u001b[0mCudaTransfer\u001b[0m\u001b[0;34m.\u001b[0m\u001b[0mapply\u001b[0m\u001b[0;34m(\u001b[0m\u001b[0mself\u001b[0m\u001b[0;34m,\u001b[0m \u001b[0mdevice\u001b[0m\u001b[0;34m,\u001b[0m \u001b[0masync\u001b[0m\u001b[0;34m)\u001b[0m\u001b[0;34m\u001b[0m\u001b[0m\n\u001b[0m\u001b[1;32m    299\u001b[0m \u001b[0;34m\u001b[0m\u001b[0m\n\u001b[1;32m    300\u001b[0m     \u001b[0;32mdef\u001b[0m \u001b[0mcpu\u001b[0m\u001b[0;34m(\u001b[0m\u001b[0mself\u001b[0m\u001b[0;34m)\u001b[0m\u001b[0;34m:\u001b[0m\u001b[0;34m\u001b[0m\u001b[0m\n",
      "\u001b[0;32m/home/quoniammm/anaconda3/envs/py3Tfgpu/lib/python3.6/site-packages/torch/autograd/_functions/tensor.py\u001b[0m in \u001b[0;36mforward\u001b[0;34m(ctx, i, device, async)\u001b[0m\n\u001b[1;32m    199\u001b[0m             \u001b[0;32mreturn\u001b[0m \u001b[0mi\u001b[0m\u001b[0;34m.\u001b[0m\u001b[0mcuda\u001b[0m\u001b[0;34m(\u001b[0m\u001b[0mdevice\u001b[0m\u001b[0;34m,\u001b[0m \u001b[0masync\u001b[0m\u001b[0;34m=\u001b[0m\u001b[0masync\u001b[0m\u001b[0;34m)\u001b[0m\u001b[0;34m\u001b[0m\u001b[0m\n\u001b[1;32m    200\u001b[0m         \u001b[0;32melse\u001b[0m\u001b[0;34m:\u001b[0m\u001b[0;34m\u001b[0m\u001b[0m\n\u001b[0;32m--> 201\u001b[0;31m             \u001b[0;32mreturn\u001b[0m \u001b[0mi\u001b[0m\u001b[0;34m.\u001b[0m\u001b[0mcuda\u001b[0m\u001b[0;34m(\u001b[0m\u001b[0masync\u001b[0m\u001b[0;34m=\u001b[0m\u001b[0masync\u001b[0m\u001b[0;34m)\u001b[0m\u001b[0;34m\u001b[0m\u001b[0m\n\u001b[0m\u001b[1;32m    202\u001b[0m \u001b[0;34m\u001b[0m\u001b[0m\n\u001b[1;32m    203\u001b[0m     \u001b[0;34m@\u001b[0m\u001b[0mstaticmethod\u001b[0m\u001b[0;34m\u001b[0m\u001b[0m\n",
      "\u001b[0;32m/home/quoniammm/anaconda3/envs/py3Tfgpu/lib/python3.6/site-packages/torch/_utils.py\u001b[0m in \u001b[0;36m_cuda\u001b[0;34m(self, device, async)\u001b[0m\n\u001b[1;32m     67\u001b[0m         \u001b[0;32melse\u001b[0m\u001b[0;34m:\u001b[0m\u001b[0;34m\u001b[0m\u001b[0m\n\u001b[1;32m     68\u001b[0m             \u001b[0mnew_type\u001b[0m \u001b[0;34m=\u001b[0m \u001b[0mgetattr\u001b[0m\u001b[0;34m(\u001b[0m\u001b[0mtorch\u001b[0m\u001b[0;34m.\u001b[0m\u001b[0mcuda\u001b[0m\u001b[0;34m,\u001b[0m \u001b[0mself\u001b[0m\u001b[0;34m.\u001b[0m\u001b[0m__class__\u001b[0m\u001b[0;34m.\u001b[0m\u001b[0m__name__\u001b[0m\u001b[0;34m)\u001b[0m\u001b[0;34m\u001b[0m\u001b[0m\n\u001b[0;32m---> 69\u001b[0;31m             \u001b[0;32mreturn\u001b[0m \u001b[0mnew_type\u001b[0m\u001b[0;34m(\u001b[0m\u001b[0mself\u001b[0m\u001b[0;34m.\u001b[0m\u001b[0msize\u001b[0m\u001b[0;34m(\u001b[0m\u001b[0;34m)\u001b[0m\u001b[0;34m)\u001b[0m\u001b[0;34m.\u001b[0m\u001b[0mcopy_\u001b[0m\u001b[0;34m(\u001b[0m\u001b[0mself\u001b[0m\u001b[0;34m,\u001b[0m \u001b[0masync\u001b[0m\u001b[0;34m)\u001b[0m\u001b[0;34m\u001b[0m\u001b[0m\n\u001b[0m\u001b[1;32m     70\u001b[0m \u001b[0;34m\u001b[0m\u001b[0m\n\u001b[1;32m     71\u001b[0m \u001b[0;34m\u001b[0m\u001b[0m\n",
      "\u001b[0;31mKeyboardInterrupt\u001b[0m: "
     ]
    }
   ],
   "source": [
    "-"
   ]
  },
  {
   "cell_type": "code",
   "execution_count": 6,
   "metadata": {},
   "outputs": [
    {
     "name": "stdout",
     "output_type": "stream",
     "text": [
      "240\n"
     ]
    },
    {
     "data": {
      "text/html": [
       "<iframe id=\"igraph\" scrolling=\"no\" style=\"border:none;\" seamless=\"seamless\" src=\"https://plot.ly/~quoniammm/2.embed\" height=\"525px\" width=\"100%\"></iframe>"
      ],
      "text/plain": [
       "<plotly.tools.PlotlyDisplay object>"
      ]
     },
     "execution_count": 6,
     "metadata": {},
     "output_type": "execute_result"
    }
   ],
   "source": [
    "N = len(train_acc)\n",
    "print(N)\n",
    "random_x = np.linspace(0, 1, N)\n",
    "random_y0 = np.array(train_acc)\n",
    "random_y1 = np.array(valid_acc)\n",
    "\n",
    "# Create traces\n",
    "trace0 = go.Scatter(\n",
    "    x = random_x,\n",
    "    y = random_y0,\n",
    "    mode = 'lines',\n",
    "    name = 'train_acc'\n",
    ")\n",
    "trace1 = go.Scatter(\n",
    "    x = random_x,\n",
    "    y = random_y1,\n",
    "    mode = 'lines',\n",
    "    name = 'valid_acc'\n",
    ")\n",
    "\n",
    "data = [trace0, trace1]\n",
    "\n",
    "py.iplot(data, filename='line-mode')"
   ]
  },
  {
   "cell_type": "code",
   "execution_count": 7,
   "metadata": {
    "collapsed": true
   },
   "outputs": [],
   "source": [
    "def test_deal(x):\n",
    "    sen_vec = []\n",
    "    for word in x.split(' '):\n",
    "        if word not in all_words:\n",
    "            sen_vec.append(2)\n",
    "        else:\n",
    "            sen_vec.append(word2index[word])\n",
    "            \n",
    "    return sen_vec\n",
    "            \n",
    "X_t = np.array(test.text.apply(test_deal))\n",
    "\n",
    "# X_t_pad = np.zeros((8392, 861))\n",
    "\n",
    "# for i in range(X_t_pad.shape[0]):\n",
    "#     for j in range(len(X_t[i])):\n",
    "#         X_t_pad[i, j] = X_t[i][j]\n",
    "        \n",
    "maxlen = 256\n",
    "X_pad = pad_sequences(sequences=X_t, maxlen=maxlen)\n",
    "        \n",
    "tt = Variable(torch.LongTensor(X_t_pad.astype(int)))"
   ]
  },
  {
   "cell_type": "code",
   "execution_count": 8,
   "metadata": {},
   "outputs": [
    {
     "data": {
      "text/plain": [
       "textCNN(\n",
       "  (embed): Embedding(47560, 128)\n",
       "  (convs): ModuleList(\n",
       "    (0): Conv2d (1, 100, kernel_size=(3, 128), stride=(1, 1))\n",
       "    (1): Conv2d (1, 100, kernel_size=(4, 128), stride=(1, 1))\n",
       "    (2): Conv2d (1, 100, kernel_size=(5, 128), stride=(1, 1))\n",
       "  )\n",
       "  (dropout): Dropout(p=0.6)\n",
       "  (fc): Linear(in_features=300, out_features=3)\n",
       ")"
      ]
     },
     "execution_count": 8,
     "metadata": {},
     "output_type": "execute_result"
    }
   ],
   "source": [
    "model.cpu()\n",
    "model.eval()"
   ]
  },
  {
   "cell_type": "code",
   "execution_count": 9,
   "metadata": {},
   "outputs": [
    {
     "name": "stdout",
     "output_type": "stream",
     "text": [
      "\n",
      " 0.3850  0.0403  0.5747\n",
      " 0.5671  0.3251  0.1078\n",
      " 0.0233  0.9698  0.0070\n",
      " 0.0492  0.9073  0.0435\n",
      " 0.2739  0.0224  0.7037\n",
      " 0.5380  0.0968  0.3652\n",
      " 0.9907  0.0022  0.0071\n",
      " 0.0913  0.2509  0.6578\n",
      " 0.9911  0.0035  0.0054\n",
      " 0.9953  0.0002  0.0045\n",
      " 0.0306  0.1016  0.8678\n",
      " 0.0767  0.8879  0.0354\n",
      " 0.0089  0.0476  0.9436\n",
      " 0.0568  0.6581  0.2852\n",
      " 0.9701  0.0276  0.0022\n",
      " 0.0127  0.0002  0.9871\n",
      "[torch.FloatTensor of size 16x3]\n",
      "\n"
     ]
    }
   ],
   "source": [
    "for i in range(0, len(tt), 16):\n",
    "    if i + 16 > len(tt):\n",
    "        batch = tt[i:]\n",
    "    else:\n",
    "        batch = tt[i:i+16]\n",
    "        \n",
    "    r, _ = model(batch)\n",
    "#     print(r)\n",
    "#     a = np.array(r.data)\n",
    "#     print(a)\n",
    "#     b = np.array(r)\n",
    "#     print(b)\n",
    "#     c = np.vstack((a, b))\n",
    "#     print(c)\n",
    "#     break\n",
    "    if i == 0:\n",
    "        out = r.data\n",
    "        print(out)\n",
    "    else:\n",
    "        out = torch.cat((r.data, out), 0)"
   ]
  },
  {
   "cell_type": "code",
   "execution_count": 10,
   "metadata": {},
   "outputs": [
    {
     "data": {
      "text/plain": [
       "8392"
      ]
     },
     "execution_count": 10,
     "metadata": {},
     "output_type": "execute_result"
    }
   ],
   "source": [
    "len(out)"
   ]
  },
  {
   "cell_type": "code",
   "execution_count": 11,
   "metadata": {
    "collapsed": true
   },
   "outputs": [],
   "source": [
    "rr = pd.DataFrame(np.array(out), columns=['EAP', 'HPL', 'MWS'], index=test.id)"
   ]
  },
  {
   "cell_type": "code",
   "execution_count": 12,
   "metadata": {
    "collapsed": true
   },
   "outputs": [],
   "source": [
    "rr.to_csv('333.csv')"
   ]
  },
  {
   "cell_type": "code",
   "execution_count": 15,
   "metadata": {},
   "outputs": [
    {
     "name": "stdout",
     "output_type": "stream",
     "text": [
      "0.09\n"
     ]
    }
   ],
   "source": [
    "print(\"{}\".format(round(0.0897*100)/100))"
   ]
  },
  {
   "cell_type": "code",
   "execution_count": null,
   "metadata": {
    "collapsed": true
   },
   "outputs": [],
   "source": []
  }
 ],
 "metadata": {
  "kernelspec": {
   "display_name": "Python 3",
   "language": "python",
   "name": "python3"
  },
  "language_info": {
   "codemirror_mode": {
    "name": "ipython",
    "version": 3
   },
   "file_extension": ".py",
   "mimetype": "text/x-python",
   "name": "python",
   "nbconvert_exporter": "python",
   "pygments_lexer": "ipython3",
   "version": "3.6.2"
  }
 },
 "nbformat": 4,
 "nbformat_minor": 2
}
