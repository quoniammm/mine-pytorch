{
 "cells": [
  {
   "cell_type": "code",
   "execution_count": 2,
   "metadata": {},
   "outputs": [],
   "source": [
    "import numpy as np, pandas as pd\n",
    "\n",
    "# f_lstm = 'baseline.csv'\n",
    "# f_nbsvm = 'submission.csv'\n",
    "f_lstm_glove = 'submission_glove.csv'\n",
    "f_cnn_glove = 'submission_textcnn.csv'\n",
    "\n",
    "\n",
    "# p_lstm = pd.read_csv(f_lstm)\n",
    "# p_nbsvm = pd.read_csv(f_nbsvm)\n",
    "p_lstm_glove = pd.read_csv(f_lstm_glove)\n",
    "p_cnn_glove = pd.read_csv(f_cnn_glove)\n",
    "\n",
    "label_cols = ['toxic', 'severe_toxic', 'obscene', 'threat', 'insult', 'identity_hate']\n",
    "p_res_1 = p_lstm_glove .copy()\n",
    "# p_res_2 = p_lstm.copy()\n",
    "# p_res_3 = p_lstm.copy()\n",
    "\n",
    "p_res_1[label_cols] = (p_lstm_glove[label_cols] + p_cnn_glove[label_cols]) / 2\n",
    "\n",
    "p_res_1.to_csv('submission_final.csv', index=False)"
   ]
  },
  {
   "cell_type": "code",
   "execution_count": 3,
   "metadata": {},
   "outputs": [
    {
     "data": {
      "text/html": [
       "<div>\n",
       "<style scoped>\n",
       "    .dataframe tbody tr th:only-of-type {\n",
       "        vertical-align: middle;\n",
       "    }\n",
       "\n",
       "    .dataframe tbody tr th {\n",
       "        vertical-align: top;\n",
       "    }\n",
       "\n",
       "    .dataframe thead th {\n",
       "        text-align: right;\n",
       "    }\n",
       "</style>\n",
       "<table border=\"1\" class=\"dataframe\">\n",
       "  <thead>\n",
       "    <tr style=\"text-align: right;\">\n",
       "      <th></th>\n",
       "      <th>id</th>\n",
       "      <th>toxic</th>\n",
       "      <th>severe_toxic</th>\n",
       "      <th>obscene</th>\n",
       "      <th>threat</th>\n",
       "      <th>insult</th>\n",
       "      <th>identity_hate</th>\n",
       "    </tr>\n",
       "  </thead>\n",
       "  <tbody>\n",
       "    <tr>\n",
       "      <th>0</th>\n",
       "      <td>00001cee341fdb12</td>\n",
       "      <td>0.992290</td>\n",
       "      <td>0.345920</td>\n",
       "      <td>0.967165</td>\n",
       "      <td>0.030029</td>\n",
       "      <td>0.898394</td>\n",
       "      <td>0.422554</td>\n",
       "    </tr>\n",
       "    <tr>\n",
       "      <th>1</th>\n",
       "      <td>0000247867823ef7</td>\n",
       "      <td>0.000847</td>\n",
       "      <td>0.000159</td>\n",
       "      <td>0.000423</td>\n",
       "      <td>0.000010</td>\n",
       "      <td>0.000529</td>\n",
       "      <td>0.000185</td>\n",
       "    </tr>\n",
       "    <tr>\n",
       "      <th>2</th>\n",
       "      <td>00013b17ad220c46</td>\n",
       "      <td>0.000396</td>\n",
       "      <td>0.000080</td>\n",
       "      <td>0.000279</td>\n",
       "      <td>0.000014</td>\n",
       "      <td>0.000115</td>\n",
       "      <td>0.000108</td>\n",
       "    </tr>\n",
       "    <tr>\n",
       "      <th>3</th>\n",
       "      <td>00017563c3f7919a</td>\n",
       "      <td>0.000564</td>\n",
       "      <td>0.000088</td>\n",
       "      <td>0.000263</td>\n",
       "      <td>0.000141</td>\n",
       "      <td>0.001478</td>\n",
       "      <td>0.000102</td>\n",
       "    </tr>\n",
       "    <tr>\n",
       "      <th>4</th>\n",
       "      <td>00017695ad8997eb</td>\n",
       "      <td>0.003894</td>\n",
       "      <td>0.000399</td>\n",
       "      <td>0.000537</td>\n",
       "      <td>0.000057</td>\n",
       "      <td>0.001000</td>\n",
       "      <td>0.000099</td>\n",
       "    </tr>\n",
       "  </tbody>\n",
       "</table>\n",
       "</div>"
      ],
      "text/plain": [
       "                 id     toxic  severe_toxic   obscene    threat    insult  \\\n",
       "0  00001cee341fdb12  0.992290      0.345920  0.967165  0.030029  0.898394   \n",
       "1  0000247867823ef7  0.000847      0.000159  0.000423  0.000010  0.000529   \n",
       "2  00013b17ad220c46  0.000396      0.000080  0.000279  0.000014  0.000115   \n",
       "3  00017563c3f7919a  0.000564      0.000088  0.000263  0.000141  0.001478   \n",
       "4  00017695ad8997eb  0.003894      0.000399  0.000537  0.000057  0.001000   \n",
       "\n",
       "   identity_hate  \n",
       "0       0.422554  \n",
       "1       0.000185  \n",
       "2       0.000108  \n",
       "3       0.000102  \n",
       "4       0.000099  "
      ]
     },
     "execution_count": 3,
     "metadata": {},
     "output_type": "execute_result"
    }
   ],
   "source": [
    "p_res_1.head()"
   ]
  },
  {
   "cell_type": "code",
   "execution_count": 8,
   "metadata": {},
   "outputs": [
    {
     "data": {
      "text/plain": [
       "array([ 0.04857582,  0.00441823,  0.09415165,  0.00055703,  0.04802162,\n",
       "        0.01300151])"
      ]
     },
     "execution_count": 8,
     "metadata": {},
     "output_type": "execute_result"
    }
   ],
   "source": [
    "(p_lstm_glove[label_cols] +  p_cnn_glove[label_cols]).values[25554]"
   ]
  },
  {
   "cell_type": "code",
   "execution_count": null,
   "metadata": {},
   "outputs": [],
   "source": []
  }
 ],
 "metadata": {
  "kernelspec": {
   "display_name": "Python 3",
   "language": "python",
   "name": "python3"
  },
  "language_info": {
   "codemirror_mode": {
    "name": "ipython",
    "version": 3
   },
   "file_extension": ".py",
   "mimetype": "text/x-python",
   "name": "python",
   "nbconvert_exporter": "python",
   "pygments_lexer": "ipython3",
   "version": "3.6.4"
  }
 },
 "nbformat": 4,
 "nbformat_minor": 2
}
